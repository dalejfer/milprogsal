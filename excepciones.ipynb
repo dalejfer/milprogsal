{
 "metadata": {
  "language_info": {
   "codemirror_mode": {
    "name": "ipython",
    "version": 3
   },
   "file_extension": ".py",
   "mimetype": "text/x-python",
   "name": "python",
   "nbconvert_exporter": "python",
   "pygments_lexer": "ipython3",
   "version": "3.9.1-final"
  },
  "orig_nbformat": 2,
  "kernelspec": {
   "name": "python3",
   "display_name": "Python 3.9.1 64-bit",
   "metadata": {
    "interpreter": {
     "hash": "c9a4856befc00e5e3f3788f6aec3cfc7e6f4cdeb2495fec7fa8c3e3cc9625926"
    }
   }
  }
 },
 "nbformat": 4,
 "nbformat_minor": 2,
 "cells": [
  {
   "source": [
    "# Excepciones (manejo de errores o error handling)  \n",
    "\n",
    "En general existen dos tipos de errores.  \n",
    "**Errores de sintaxis** (o de parseo, parsing), son quizá los mas comunes cuando uno todavía esta aprendiendo la sintaxis de Python.  \n",
    "   \n",
    "    >>> while True print('Hello world')\n",
    "      File \"<stdin>\", line 1\n",
    "        while True print('Hello world')\n",
    "                   ^\n",
    "    SyntaxError: invalid syntax  \n",
    "\n",
    "**Excepciones.**  \n",
    "Incluso si una declaración o expresión es sintácticamente correcta, puede generar un error cuando se intenta ejecutar. Los errores detectados durante la ejecución se llaman excepciones, y no son incondicionalmente fatales. Sin embargo, la mayoría de las excepciones no son gestionadas por el código, y resultan en mensajes de error.  \n",
    "\n",
    "    >>> '2' + 2\n",
    "    Traceback (most recent call last):\n",
    "      File \"<stdin>\", line 1, in <module>\n",
    "    TypeError: can only concatenate str (not \"int\") to str  \n",
    "\n",
    "La última línea de los mensajes de error indica qué ha sucedido. Hay excepciones de diferentes tipos, y el tipo se imprime como parte del mensaje.  \n",
    "\n",
    "## La sentencia `try`  \n",
    "\n",
    "Es posible escribir programas que gestionen determinadas excepciones.  \n",
    "Véase el siguiente ejemplo, que le pide al usuario una entrada hasta que ingrese un entero válido.  \n",
    "\n",
    "    while True:\n",
    "        try:\n",
    "            x = int(input(\"Ingrese un numero: \"))\n",
    "            break\n",
    "        except ValueError:\n",
    "            print(\"Error. Debe ingresar un numero.\")\n",
    "\n",
    "La sentencia `try` funciona de la siguiente manera.\n",
    "\n",
    "* Primero, se ejecuta la cláusula `try` (la(s) linea(s) entre las palabras reservadas `try` y la `except`).\n",
    "\n",
    "* Si no ocurre ninguna excepción, la cláusula `except` se omite y la ejecución de la cláusula `try` finaliza.\n",
    "\n",
    "* Si ocurre un excepción durante la ejecucion de la clausula `try`, el resto de las clausulas se omiten. Luego, si el tipo de excepción es igual al tipo indicado, la clausula `except` se ejecuta. Posteriormente la ejecución continúa fuera del bloque try/except.\n",
    "\n",
    "* Si ocurre una excepción distinta a la indicada en la clausula `except`, ésta es pasada a una sentencia try/except de nivel superior. Si no se encuentra ningun gestionador el error es una *excepcion sin manejar* y la ejecución se detiene con un mensaje como el mostrado arriba."
   ],
   "cell_type": "markdown",
   "metadata": {}
  },
  {
   "source": [
    "Un ejemplo con un error aritmético, `ZeroDivisionError`"
   ],
   "cell_type": "markdown",
   "metadata": {}
  },
  {
   "cell_type": "code",
   "execution_count": 2,
   "metadata": {},
   "outputs": [
    {
     "output_type": "error",
     "ename": "ZeroDivisionError",
     "evalue": "division by zero",
     "traceback": [
      "\u001b[1;31m---------------------------------------------------------------------------\u001b[0m",
      "\u001b[1;31mZeroDivisionError\u001b[0m                         Traceback (most recent call last)",
      "\u001b[1;32m<ipython-input-2-baa20e3bb248>\u001b[0m in \u001b[0;36m<module>\u001b[1;34m\u001b[0m\n\u001b[0;32m      8\u001b[0m \u001b[1;31m# mis_numeros = [1,2,3,4,5,6,7,8,9,7,6,5,4,5,6,3,4,5,6,7,8]\u001b[0m\u001b[1;33m\u001b[0m\u001b[1;33m\u001b[0m\u001b[1;33m\u001b[0m\u001b[0m\n\u001b[0;32m      9\u001b[0m \u001b[0mmis_numeros\u001b[0m \u001b[1;33m=\u001b[0m \u001b[1;33m[\u001b[0m\u001b[1;33m]\u001b[0m\u001b[1;33m\u001b[0m\u001b[1;33m\u001b[0m\u001b[0m\n\u001b[1;32m---> 10\u001b[1;33m \u001b[0mprint\u001b[0m\u001b[1;33m(\u001b[0m\u001b[1;34mf\"El promedio es: {promedio(mis_numeros):.2f}\"\u001b[0m\u001b[1;33m)\u001b[0m\u001b[1;33m\u001b[0m\u001b[1;33m\u001b[0m\u001b[0m\n\u001b[0m",
      "\u001b[1;32m<ipython-input-2-baa20e3bb248>\u001b[0m in \u001b[0;36mpromedio\u001b[1;34m(lista)\u001b[0m\n\u001b[0;32m      3\u001b[0m     \u001b[0msuma\u001b[0m \u001b[1;33m=\u001b[0m \u001b[0msum\u001b[0m\u001b[1;33m(\u001b[0m\u001b[0mlista\u001b[0m\u001b[1;33m)\u001b[0m\u001b[1;33m\u001b[0m\u001b[1;33m\u001b[0m\u001b[0m\n\u001b[0;32m      4\u001b[0m     \u001b[0mcantidad\u001b[0m \u001b[1;33m=\u001b[0m \u001b[0mlen\u001b[0m\u001b[1;33m(\u001b[0m\u001b[0mlista\u001b[0m\u001b[1;33m)\u001b[0m\u001b[1;33m\u001b[0m\u001b[1;33m\u001b[0m\u001b[0m\n\u001b[1;32m----> 5\u001b[1;33m     \u001b[0mpromedio\u001b[0m \u001b[1;33m=\u001b[0m \u001b[0msuma\u001b[0m \u001b[1;33m/\u001b[0m \u001b[0mcantidad\u001b[0m \u001b[1;31m# esta es la linea \"peligrosa\"\u001b[0m\u001b[1;33m\u001b[0m\u001b[1;33m\u001b[0m\u001b[0m\n\u001b[0m\u001b[0;32m      6\u001b[0m     \u001b[1;32mreturn\u001b[0m \u001b[0mpromedio\u001b[0m\u001b[1;33m\u001b[0m\u001b[1;33m\u001b[0m\u001b[0m\n\u001b[0;32m      7\u001b[0m \u001b[1;33m\u001b[0m\u001b[0m\n",
      "\u001b[1;31mZeroDivisionError\u001b[0m: division by zero"
     ]
    }
   ],
   "source": [
    "def promedio(lista):\n",
    "    '''Calcular y devolver el promedio de una lista de nrs enteros'''\n",
    "    suma = sum(lista)\n",
    "    cantidad = len(lista)\n",
    "    promedio = suma / cantidad # esta es la linea \"peligrosa\"\n",
    "    return promedio\n",
    "\n",
    "# mis_numeros = [1,2,3,4,5,6,7,8,9,7,6,5,4,5,6,3,4,5,6,7,8]\n",
    "mis_numeros = []\n",
    "print(f\"El promedio es: {promedio(mis_numeros):.2f}\")"
   ]
  },
  {
   "cell_type": "code",
   "execution_count": 3,
   "metadata": {},
   "outputs": [
    {
     "output_type": "stream",
     "name": "stdout",
     "text": [
      "El promedio es: 0.00\n"
     ]
    }
   ],
   "source": [
    "def promedio(lista):\n",
    "    '''Calcular y devolver el promedio de una lista de nrs enteros'''\n",
    "    suma = sum(lista)\n",
    "    cantidad = len(lista)\n",
    "    try:\n",
    "        promedio = suma / cantidad\n",
    "    except ZeroDivisionError:\n",
    "        # aca se maneja/gestiona el error\n",
    "        promedio = 0.0\n",
    "    return promedio\n",
    "\n",
    "# mis_numeros = [1,2,3,4,5,6,7,8,9,7,6,5,4,5,6,3,4,5,6,7,8]\n",
    "mis_numeros = []\n",
    "print(f\"El promedio es: {promedio(mis_numeros):.2f}\")"
   ]
  },
  {
   "source": [
    "### Otro ejemplo"
   ],
   "cell_type": "markdown",
   "metadata": {}
  },
  {
   "cell_type": "code",
   "execution_count": null,
   "metadata": {},
   "outputs": [],
   "source": [
    "print(\"Bienvenido a <hamburgueseria>, que tipo de hamburguesa desea? Elija una opcion.\")\n",
    "print(\"1. Vegetariana.\")\n",
    "print(\"2. No Vegetariana.\")\n",
    "while True:\n",
    "    opcion = int(input(\"Ingrese 1 o 2: \"))\n",
    "    if opcion == 1:\n",
    "        print(\"Ud. eligió una hamburguesa vegetariana.\")\n",
    "        break\n",
    "    elif opcion == 2:\n",
    "        print(\"Ud. eligió una hamburguesa no vegetariana.\")\n",
    "        break\n",
    "    else:\n",
    "        print(\"Debe ingresar 1 o 2.\")\n",
    "# el resto del programa"
   ]
  },
  {
   "source": [
    "Usando un bloque `try/except` en el casteo a `int`"
   ],
   "cell_type": "markdown",
   "metadata": {}
  },
  {
   "cell_type": "code",
   "execution_count": 1,
   "metadata": {},
   "outputs": [
    {
     "output_type": "stream",
     "name": "stdout",
     "text": [
      "Bienvenido a <hamburgueseria>, que tipo de hamburguesa desea? Elija una opcion.\n",
      "1. Vegetariana.\n",
      "2. No Vegetariana.\n",
      "Debe ingresar 1 o 2.\n",
      "Debe ingresar 1 o 2.\n",
      "Debe ingresar 1 o 2.\n",
      "Ud. eligió una hamburguesa vegetariana.\n"
     ]
    }
   ],
   "source": [
    "print(\"Bienvenido a <hamburgueseria>, que tipo de hamburguesa desea? Elija una opcion.\")\n",
    "print(\"1. Vegetariana.\")\n",
    "print(\"2. No Vegetariana.\")\n",
    "while True:\n",
    "    try:\n",
    "        opcion = int(input(\"Ingrese 1 o 2: \"))\n",
    "    except ValueError as err:\n",
    "        # print(err)\n",
    "        print(\"Debe ingresar los numeros 1 o 2.\")\n",
    "        continue\n",
    "    if opcion == 1:\n",
    "        print(\"Ud. eligió una hamburguesa vegetariana.\")\n",
    "        break\n",
    "    elif opcion == 2:\n",
    "        print(\"Ud. eligió una hamburguesa no vegetariana.\")\n",
    "        break\n",
    "    else:\n",
    "        print(\"Debe ingresar 1 o 2.\")"
   ]
  }
 ]
}