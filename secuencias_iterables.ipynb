{
 "metadata": {
  "language_info": {
   "codemirror_mode": {
    "name": "ipython",
    "version": 3
   },
   "file_extension": ".py",
   "mimetype": "text/x-python",
   "name": "python",
   "nbconvert_exporter": "python",
   "pygments_lexer": "ipython3",
   "version": "3.9.1-final"
  },
  "orig_nbformat": 2,
  "kernelspec": {
   "name": "python3",
   "display_name": "Python 3.9.1 64-bit",
   "metadata": {
    "interpreter": {
     "hash": "c9a4856befc00e5e3f3788f6aec3cfc7e6f4cdeb2495fec7fa8c3e3cc9625926"
    }
   }
  }
 },
 "nbformat": 4,
 "nbformat_minor": 2,
 "cells": [
  {
   "source": [
    "# Estructuras de datos\n",
    "\n",
    "Estructuras de datos contenedoras: secuencias, mapeos, conjuntos.\n",
    "## Secuencias  \n",
    "\n",
    "Las secuencias representan grupos de elementos indexados por numeros no negativos.  \n",
    "Soportan la funcion len() y slicing (que devuelve una secuencia del mismo tipo). Se pueden clasificar en **mutables** e **inmutables**.  \n",
    "\n",
    "### Strings (cadenas)  \n",
    "\n",
    "Es una secuencia ***inmutable*** que contiene caracteres unicode."
   ],
   "cell_type": "markdown",
   "metadata": {}
  },
  {
   "cell_type": "code",
   "execution_count": 1,
   "metadata": {},
   "outputs": [
    {
     "output_type": "stream",
     "name": "stdout",
     "text": [
      "cadena = str(66.3) # cadena: 66.3\n\nCadena con comillas simples. cadena: '¡No pasarás!', exclamó Gandalf.\n\n"
     ]
    }
   ],
   "source": [
    "cadena = str(66.3)  # convierte (castea) el argumento pasado a su representacion como string\n",
    "print(f\"cadena = str(66.3) # cadena: {cadena}\", end=\"\\n\\n\")\n",
    "\n",
    "cadena = \"'¡No pasarás!', exclamó Gandalf.\" # literal con comillas simples adentro\n",
    "print(f\"Cadena con comillas simples. cadena: {cadena}\", end=\"\\n\\n\") # para mostrar tengo que 'escapar' los caracteres de comillas dobles"
   ]
  },
  {
   "source": [
    "Mas sobre cadenas... *completar...*"
   ],
   "cell_type": "markdown",
   "metadata": {}
  },
  {
   "source": [
    "### Listas  \n",
    "\n",
    "Es una secuencia ***mutable*** que puede contener elementos de cualquier tipo. En general se las usa con elementos del mismo tipo."
   ],
   "cell_type": "markdown",
   "metadata": {}
  },
  {
   "cell_type": "code",
   "execution_count": 35,
   "metadata": {},
   "outputs": [
    {
     "output_type": "stream",
     "name": "stdout",
     "text": [
      "lista = list() | lista: []\n\nlista = list((1.4, 4.5, 1.3, 0.3)) | lista: [1.4, 4.5, 1.3, 0.3]\n\nlista = [] | lista: []\n"
     ]
    }
   ],
   "source": [
    "lista = list() # devuelve una lista vacia (y la asigna al nombre 'lista')\n",
    "print(f\"lista = list() # lista: {lista}\", end=\"\\n\\n\")\n",
    "lista = list((1.4, 4.5, 1.3, 0.3)) # devuelve una lista creada a partir del iterable pasado como parametro (castea a list)\n",
    "print(f\"lista = list((1.4, 4.5, 1.3, 0.3)) # lista: {lista}\", end=\"\\n\\n\")\n",
    "lista = []     # asigna al nombre 'lista' un literal de una lista vacia\n",
    "print(f\"lista = [] # lista: {lista}\")"
   ]
  },
  {
   "source": [
    "#### Metodos de las listas\n"
   ],
   "cell_type": "markdown",
   "metadata": {}
  },
  {
   "cell_type": "code",
   "execution_count": 34,
   "metadata": {},
   "outputs": [
    {
     "output_type": "stream",
     "name": "stdout",
     "text": [
      "lista.append(1) | lista: [3, 2, 1, 1]\n\nlista.extend([2,3,4]) | lista: [3, 2, 1, 1, 2, 3, 4]\n\nlista.insert(0, 4) | lista: [4, 3, 2, 1, 1, 2, 3, 4]\n\nlista.remove(4) | lista: [3, 2, 1, 1, 2, 3, 4]\n\nultimo = lista.pop() | lista: [3, 2, 1, 1, 2, 3] - ultimo: 4\n\nlista.reverse() | lista: [3, 2, 1, 1, 2, 3]\n\notra = lista.copy() | lista: [3, 2, 1, 1, 2, 3] - otra: [3, 2, 1, 1, 2, 3]\n\nlista == otra: True - lista is otra: False\n"
     ]
    }
   ],
   "source": [
    "lista.append(1)  # agrega un elemento al final de la lista\n",
    "print(f\"lista.append(1) # lista: {lista}\", end=\"\\n\\n\")\n",
    "\n",
    "lista.extend([2,3,4]) # agrega un iterable (en este caso una lista) al final de la lista\n",
    "print(f\"lista.extend([2,3,4]) # lista: {lista}\", end=\"\\n\\n\")\n",
    "\n",
    "lista.insert(0, 4)  # inserta un elemento en la posicion (indice) indicada\n",
    "print(f\"lista.insert(0, 4) # lista: {lista}\", end=\"\\n\\n\")\n",
    "\n",
    "lista.remove(4)  # saca de la lista la primera ocurrencia del elemento\n",
    "print(f\"lista.remove(4) # lista: {lista}\", end=\"\\n\\n\")\n",
    "\n",
    "ultimo = lista.pop() # remueve (y devuelve) el ultimo elemento de la lista (o el indiacado)\n",
    "print(f\"ultimo = lista.pop() # lista: {lista} - ultimo: {ultimo}\", end=\"\\n\\n\")\n",
    "\n",
    "lista.reverse() # ordena la lista al reves de lo que estaba\n",
    "print(f\"lista.reverse() # lista: {lista}\", end=\"\\n\\n\")\n",
    "\n",
    "otra = lista.copy() # devuelve una copia de la lista\n",
    "print(f\"otra = lista.copy() # lista: {lista} - otra: {otra}\", end=\"\\n\\n\")\n",
    "print(f\"lista == otra: {lista == otra} - lista is otra: {lista is otra}\")"
   ]
  },
  {
   "source": [
    "#### Otros metodos de listas:  \n",
    "*lista.clear()*:     remueve todos los elementos de la lista (igual funcionalidad que del lista[:])  \n",
    "*lista.index(elem)*: devuelve la posicion (indice) de la priemra ocurrencia del elemento 'elem'  \n",
    "*lista.count(elem)*: devuelve la cantidad de veces que el elemento 'elem' aparece en la lista  \n",
    "*list.sort()*:       ordena los elementos de la lista"
   ],
   "cell_type": "markdown",
   "metadata": {}
  },
  {
   "source": [
    "### Tuplas  \n",
    "\n",
    "Es una secuencia ***inmutable*** que puede contener elementos de cualquier tipo de dato.\n"
   ],
   "cell_type": "markdown",
   "metadata": {}
  },
  {
   "cell_type": "code",
   "execution_count": 3,
   "metadata": {},
   "outputs": [
    {
     "output_type": "stream",
     "name": "stdout",
     "text": [
      "tupla = tuple([1,2,3,4,5,6]) # tupla: (1, 2, 3, 4, 5, 6)\n\ntupla = 54, 76, 43, 10, -4, 100 # tupla: (54, 76, 43, 10, -4, 100)\n\ntupla = () # tupla: ()\n\ntupla = ('elemento', ) # tupla: ('elemento',)\n\n"
     ]
    }
   ],
   "source": [
    "tupla = tuple([1,2,3,4,5,6]) # devuelve una tupla a partir del iterable pasado como parametro (castea a tupla)\n",
    "print(f\"tupla = tuple([1,2,3,4,5,6]) # tupla: {tupla}\", end=\"\\n\\n\")\n",
    "\n",
    "tupla = 54, 76, 43, 10, -4, 100 # asigna el literal de la tupla, se pueden colocar parentesis tambien\n",
    "print(f\"tupla = 54, 76, 43, 10, -4, 100 # tupla: {tupla}\", end=\"\\n\\n\")\n",
    "\n",
    "tupla = () # crea una tupla vacia  \n",
    "print(f\"tupla = () # tupla: {tupla}\", end=\"\\n\\n\")\n",
    "\n",
    "tupla = ('elemento',) # crea una tupla con un solo elemento (hay que poner la coma)\n",
    "print(f\"tupla = ('elemento', ) # tupla: {tupla}\", end=\"\\n\\n\")\n"
   ]
  },
  {
   "source": [
    "## Mapeos\n",
    "\n",
    "### Diccionarios  \n",
    "Es un mapeo de pares de elementos "
   ],
   "cell_type": "markdown",
   "metadata": {}
  },
  {
   "source": [
    "## Conjuntos  \n",
    "  \n",
    "### Set  \n",
    "  \n",
    "Es una estructura de datos sin orden y sin elementos repetidos. En general se los usa para probar pertenencia. Se definen con llaves (como los diccionarios, pero no tienen pares de elementos).\n"
   ],
   "cell_type": "markdown",
   "metadata": {}
  },
  {
   "cell_type": "code",
   "execution_count": 2,
   "metadata": {},
   "outputs": [
    {
     "output_type": "stream",
     "name": "stdout",
     "text": [
      "{32, 99, 5, 76, 61}\n"
     ]
    }
   ],
   "source": [
    "conjunto = set()    # es la forma correcta de crear un conjunto vacio ya que si usamos var = {} se crea un dict\n",
    "conjunto.add(5)\n",
    "conjunto.add(99)\n",
    "conjunto.add(76)\n",
    "conjunto.add(32)\n",
    "conjunto.add(61)\n",
    "print(conjunto)"
   ]
  },
  {
   "source": [
    "Probando pertenencia con la palabra clave (keyword) `in`. Siempre devuelve un booleano."
   ],
   "cell_type": "markdown",
   "metadata": {}
  },
  {
   "cell_type": "code",
   "execution_count": 3,
   "metadata": {},
   "outputs": [
    {
     "output_type": "execute_result",
     "data": {
      "text/plain": [
       "True"
      ]
     },
     "metadata": {},
     "execution_count": 3
    }
   ],
   "source": [
    "99 in conjunto"
   ]
  }
 ]
}