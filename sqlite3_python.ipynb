{
  "nbformat": 4,
  "nbformat_minor": 0,
  "metadata": {
    "colab": {
      "name": "sqlite3-python.ipynb",
      "provenance": [],
      "collapsed_sections": []
    },
    "kernelspec": {
      "name": "python3",
      "display_name": "Python 3"
    },
    "language_info": {
      "name": "python"
    }
  },
  "cells": [
    {
      "cell_type": "markdown",
      "metadata": {
        "id": "KBRdKuvJDfEG"
      },
      "source": [
        "# sqlite3 python API  \n",
        "  \n",
        "Motor de bases de datos mínimo basado en archivos."
      ]
    },
    {
      "cell_type": "markdown",
      "metadata": {
        "id": "2af3eVSYDjif"
      },
      "source": [
        "Recordar siempre importar el modulo sqlite3 antes de comenzar.  \n",
        "`import sqlite3`  \n",
        "  \n",
        "Crear una base de datos.  \n",
        "Se crea automáticamente cuando se intenta conectar a una base de datos que no existe.  \n",
        "`conn = sqlite3.connect(\"mi_base.db\")`  \n",
        "  \n",
        "De la misma forma se abre una conexión a una base de datos existente."
      ]
    },
    {
      "cell_type": "code",
      "metadata": {
        "colab": {
          "base_uri": "https://localhost:8080/"
        },
        "id": "3wRGOFU_DcVk",
        "outputId": "2d4ceaf7-9dde-4360-c894-846d0c2d8c54"
      },
      "source": [
        "import sqlite3\n",
        "\n",
        "conn = sqlite3.connect(\"mi_base.db\") # crea el archivo, si no existe\n",
        "print(type(conn)) # es del tipo sqlite3.Connection\n",
        "cur = conn.cursor() # obtengo un cursor para operar en la db\n",
        "print(type(cur)) # es del tipo sqlite3.Cursor"
      ],
      "execution_count": null,
      "outputs": [
        {
          "output_type": "stream",
          "name": "stdout",
          "text": [
            "<class 'sqlite3.Connection'>\n",
            "<class 'sqlite3.Cursor'>\n"
          ]
        }
      ]
    },
    {
      "cell_type": "markdown",
      "metadata": {
        "id": "fWDgCD54f6Fe"
      },
      "source": [
        "Como desconectar (cerrar) una base de datos sqlite3.  \n",
        "`conn.close()`"
      ]
    },
    {
      "cell_type": "code",
      "metadata": {
        "id": "lgolikrlf2x-"
      },
      "source": [
        "conn.close()"
      ],
      "execution_count": null,
      "outputs": []
    },
    {
      "cell_type": "markdown",
      "metadata": {
        "id": "eahuuBN_EmbG"
      },
      "source": [
        "Crear una tabla.  \n",
        "sentencia SQL: `CREATE TABLE mi_tabla (campo1 tipo1, campo2 tipo2, ...)`  \n",
        "  \n",
        "Usando el cursor para **ejecutar** la sentencia."
      ]
    },
    {
      "cell_type": "code",
      "metadata": {
        "id": "Fd9k4Jl6FAn_"
      },
      "source": [
        "crear = \"\"\"create table usuarios (\n",
        "                        id_usu integer primary key autoincrement,\n",
        "                        nombre text,\n",
        "                        apellido text,\n",
        "                        email text,\n",
        "                        edad integer)\"\"\"\n",
        "cur.execute(crear)  # aca se crea la tabla\n",
        "conn.commit()"
      ],
      "execution_count": null,
      "outputs": []
    },
    {
      "cell_type": "markdown",
      "metadata": {
        "id": "wMXiBh3JF3bc"
      },
      "source": [
        "Ingresar informacion a una tabla.  \n",
        "sentencia SQL: `INSERT INTO mi_tabla (campo1, campo2) VALUES (valor1, valor2)`"
      ]
    },
    {
      "cell_type": "code",
      "metadata": {
        "id": "LXy8BoolGSwv"
      },
      "source": [
        "insertar = \"INSERT INTO usuarios (nombre, apellido, email, edad) VALUES (?, ?, ?, ?)\"\n",
        "cur.execute(insertar, (\"Benjmin\", \"Lopz\", \"benjalopez@gmail.com\", 21))\n",
        "cur.execute(insertar, (\"Mario\", \"Gomez\", \"mario@gmail.com\", 60))\n",
        "cur.execute(insertar, (\"Gonzalo\", \"Martinez\", \"gonza@gmail.com\", 30))\n",
        "cur.execute(insertar, (\"Marcela\", \"Perez\", \"marcela@gmail.com\", 18))\n",
        "cur.execute(insertar, (\"Laura\", \"Castro\", \"lau@gmail.com\", 21))\n",
        "conn.commit()"
      ],
      "execution_count": null,
      "outputs": []
    },
    {
      "cell_type": "markdown",
      "metadata": {
        "id": "A02FjgvwdiyE"
      },
      "source": [
        "Obtener informacion desde mi bd.  \n",
        "sentencia SQL: `SELECT campo1, campo2 FROM tabla WHERE <condicion>`"
      ]
    },
    {
      "cell_type": "code",
      "metadata": {
        "colab": {
          "base_uri": "https://localhost:8080/"
        },
        "id": "gIpTQOlIdvU9",
        "outputId": "01bb3502-67bb-4245-c3e8-310219554939"
      },
      "source": [
        "seleccionar = \"SELECT * FROM usuarios\"\n",
        "cur.execute(seleccionar)\n",
        "resultado = cur.fetchall()\n",
        "for registro in resultado:\n",
        "    print(registro)"
      ],
      "execution_count": null,
      "outputs": [
        {
          "output_type": "stream",
          "name": "stdout",
          "text": [
            "(6, 'Benjmin', 'Lopz', 'benjalopez@gmail.com', 21)\n",
            "(7, 'Mario', 'Gomez', 'mario@gmail.com', 60)\n",
            "(8, 'Gonzalo', 'Martinez', 'gonza@gmail.com', 30)\n",
            "(9, 'Marcela', 'Perez', 'marcela@gmail.com', 18)\n",
            "(10, 'Laura', 'Castro', 'lau@gmail.com', 21)\n"
          ]
        }
      ]
    },
    {
      "cell_type": "markdown",
      "metadata": {
        "id": "B_0q6XBRy3W4"
      },
      "source": [
        "Modificar un registro  \n",
        "sentencia SQL: `UPDATE tabla SET campo1 = valor, ... WHERE <condicion>`"
      ]
    },
    {
      "cell_type": "code",
      "metadata": {
        "id": "xCwDA7oje2N8"
      },
      "source": [
        "modificar = \"UPDATE usuarios SET nombre = ?, apellido = ?\"\n",
        "cur.execute(modificar, (\"Benjamin\", \"Lopez\"))\n",
        "conn.commit()"
      ],
      "execution_count": null,
      "outputs": []
    },
    {
      "cell_type": "markdown",
      "metadata": {
        "id": "68acopgX0ile"
      },
      "source": [
        "Eliminar un registro  \n",
        "sentencia SQL: `DELETE FROM tabla WHERE <condicion>`  \n",
        "  \n",
        "recuerden que **es escencial que coloquen alguna condicion en el WHERE**"
      ]
    },
    {
      "cell_type": "code",
      "metadata": {
        "id": "NEh7k5vjgex5"
      },
      "source": [
        "eliminar = \"DELETE FROM usuarios\"\n",
        "cur.execute(eliminar)\n",
        "conn.commit()"
      ],
      "execution_count": null,
      "outputs": []
    },
    {
      "cell_type": "markdown",
      "source": [
        "Insertar con executemany()  \n",
        "`cursor.executemany(sentencia_sql, secuencia_parametros)`  \n",
        "  \n",
        "`secuencia_parametros` puede ser cualquier secuencia, tupla, lista, etc"
      ],
      "metadata": {
        "id": "u30NmuYG-Fhp"
      }
    },
    {
      "cell_type": "code",
      "source": [
        "insertar = \"INSERT INTO usuarios (nombre, apellido, email, edad) VALUES (?, ?, ?, ?)\"\n",
        "lista = [(\"Benjmin\", \"Lopz\", \"benjalopez@gmail.com\", 21),\n",
        "         (\"Mario\", \"Gomez\", \"mario@gmail.com\", 60),\n",
        "         (\"Gonzalo\", \"Martinez\", \"gonza@gmail.com\", 30),\n",
        "         (\"Marcela\", \"Perez\", \"marcela@gmail.com\", 18),\n",
        "         (\"Laura\", \"Castro\", \"lau@gmail.com\", 21)]\n",
        "\n",
        "cur.executemany(insertar, lista)\n",
        "conn.commit()"
      ],
      "metadata": {
        "id": "5pL5XdBd-E0J"
      },
      "execution_count": null,
      "outputs": []
    }
  ]
}