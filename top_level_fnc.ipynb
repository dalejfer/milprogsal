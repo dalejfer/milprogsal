{
  "nbformat": 4,
  "nbformat_minor": 0,
  "metadata": {
    "colab": {
      "name": "top_level_fnc.ipynb",
      "provenance": [],
      "collapsed_sections": []
    },
    "kernelspec": {
      "name": "python3",
      "display_name": "Python 3"
    },
    "language_info": {
      "name": "python"
    }
  },
  "cells": [
    {
      "cell_type": "markdown",
      "metadata": {
        "id": "OzfZFaEIh5JT"
      },
      "source": [
        "# Funciones de primer nivel (reinas)  \n",
        "[🔗Ver en la documentacion oficial de Python](https://docs.python.org/es/3/library/functions.html)  \n",
        "  \n",
        "Las puedo usar en cualquier momento, siempre estan disponibles.  \n",
        "# `input()`  \n",
        "Devuelve lo que ingresa el usuario por teclado como tipo `str`  \n",
        "Puedo pasar un mensaje para que muestre eso al usuario."
      ]
    },
    {
      "cell_type": "code",
      "metadata": {
        "id": "tsDNaXLYh4Uf"
      },
      "source": [
        "numero = input(\"Ingrese un numero: \") # muestra le mensaje \"Ingrese un numero: \"\n",
        "print(type(numero))\n",
        "print(\"El numero ingresado es:\", numero)"
      ],
      "execution_count": null,
      "outputs": []
    },
    {
      "cell_type": "markdown",
      "metadata": {
        "id": "-r9GoRixivwq"
      },
      "source": [
        "# `print()`  \n",
        "Muestra por pantalla lo que le pase como argumento. Si lo que le paso no es un `str`, lo convierte a `str`.  \n",
        "  \n",
        "Puedo pasarle varios argumentos para que los muestre, separados por comas (,).  \n",
        "  \n",
        "Normalmente al mostrar separa cada cosa con un espacio en blanco, pero eso se puede modificar con el parametro `sep` (ver ejemplo).  \n",
        "  \n",
        "Para formatear cadenas de texto, ver mas abajo f-strings."
      ]
    },
    {
      "cell_type": "code",
      "metadata": {
        "colab": {
          "base_uri": "https://localhost:8080/"
        },
        "id": "J5JhlJnnjEBJ",
        "outputId": "53ab6cef-882f-446b-9966-b0e79dd98b70"
      },
      "source": [
        "print(100)  # si le paso un int, lo convierte en str y lo muestra\n",
        "print(\"hola\", \"como\", \"estas?\", 40, 50, True)\n",
        "print(12, 43, 65, 76, sep='|', end='.') # va a usar '-' como separador en lugar de un espacio en blanco\n",
        "print(\"no salio abajo\")"
      ],
      "execution_count": null,
      "outputs": [
        {
          "output_type": "stream",
          "name": "stdout",
          "text": [
            "100\n",
            "hola como estas? 40 50 True\n",
            "12|43|65|76.no salio abajo\n"
          ]
        }
      ]
    },
    {
      "cell_type": "markdown",
      "metadata": {
        "id": "9OO0k8yEjide"
      },
      "source": [
        "# `len()`  \n",
        "Devuelve la cantidad de elementos de un tipo de datos contenedor."
      ]
    },
    {
      "cell_type": "code",
      "metadata": {
        "colab": {
          "base_uri": "https://localhost:8080/"
        },
        "id": "G9lnPM5Gjh-i",
        "outputId": "b4d98ca4-9062-4dc4-dacf-d493823da7e5"
      },
      "source": [
        "cantidad = len([1, 2, 3, 4, 5, 6])  # funciona con listas\n",
        "print(\"cantidad de la lista:\", cantidad)\n",
        "\n",
        "cantidad = len( ('una', 'tupla', 'con', 'elementos', 'str') ) # tuplas\n",
        "print(\"cantidad de la tupla:\", cantidad)\n",
        "\n",
        "cantidad = len({65, 43, 789, 32, 0, 12}) # con conjuntos (set)\n",
        "print(\"cantidad del conjunto:\", cantidad)\n",
        "\n",
        "cantidad = len(\"una cadena cualquiera\") # tambien funciona con cadenas\n",
        "print(\"cantidad de la cadena:\", cantidad)\n",
        "\n",
        "cantidad = len({1:\"uno\", 2:\"dos\", 3:\"tres\"}) # y con diccionarios\n",
        "print(\"cantidad del diccionario:\", cantidad)"
      ],
      "execution_count": null,
      "outputs": [
        {
          "output_type": "stream",
          "name": "stdout",
          "text": [
            "cantidad de la lista: 6\n",
            "cantidad de la tupla: 5\n",
            "cantidad del conjunto: 6\n",
            "cantidad de la cadena: 21\n",
            "cantidad del diccionario: 3\n"
          ]
        }
      ]
    },
    {
      "cell_type": "markdown",
      "metadata": {
        "id": "NBGBgzuKmbWY"
      },
      "source": [
        "# `sum()`  \n",
        "Devuelve la suma de los elementos (normalmente numeros) de un *iterable*.  \n",
        " <sup><sup>Un **iterable** es cualquier estructura de datos en la que se pueda iterar (recorrer, tomar de a uno) sobre sus elementos. Por ej: listas, tuplas, cadenas, ranges son iterables</sup></sup>"
      ]
    },
    {
      "cell_type": "code",
      "metadata": {
        "colab": {
          "base_uri": "https://localhost:8080/"
        },
        "id": "194C9y8gmwFl",
        "outputId": "343c26d9-6a12-47aa-fee8-68a55c629e85"
      },
      "source": [
        "lista = [10,2,34,6,1]\n",
        "sum(lista)"
      ],
      "execution_count": null,
      "outputs": [
        {
          "output_type": "execute_result",
          "data": {
            "text/plain": [
              "53"
            ]
          },
          "metadata": {},
          "execution_count": 11
        }
      ]
    },
    {
      "cell_type": "markdown",
      "metadata": {
        "id": "FbZkqQU5nFSd"
      },
      "source": [
        "# `sorted()`  \n",
        "Cuando le paso un iterable, devuelve una *lista ordenada* (de menor a mayor) con los elementos del iterable."
      ]
    },
    {
      "cell_type": "code",
      "metadata": {
        "colab": {
          "base_uri": "https://localhost:8080/"
        },
        "id": "s3jxTKcsnYCH",
        "outputId": "89007f99-db5a-4960-b949-2717e8b55687"
      },
      "source": [
        "tupla_desordenada = (6,4,99,43,23,-5,0) # es un iterable\n",
        "print(\"tupla_desordenada\", tupla_desordenada)\n",
        "lista_ordenada = sorted(tupla_desordenada)\n",
        "print(\"lista ordenada (ex tupla_desordenada):\", lista_ordenada)\n",
        "\n",
        "cadena = \"dos palabras\" # tambien es un iterable\n",
        "print(\"cadena: \", cadena)\n",
        "lista_ordenada = sorted(cadena)\n",
        "print(\"lista ordenada (ex cadena):\", lista_ordenada)"
      ],
      "execution_count": null,
      "outputs": [
        {
          "output_type": "stream",
          "name": "stdout",
          "text": [
            "tupla_desordenada (6, 4, 99, 43, 23, -5, 0)\n",
            "lista ordenada (ex tupla_desordenada): [-5, 0, 4, 6, 23, 43, 99]\n",
            "cadena:  dos palabras\n",
            "lista ordenada (ex cadena): [' ', 'a', 'a', 'a', 'b', 'd', 'l', 'o', 'p', 'r', 's', 's']\n"
          ]
        }
      ]
    },
    {
      "cell_type": "markdown",
      "metadata": {
        "id": "rov0gMuS-_y2"
      },
      "source": [
        "# `ord()`  \n",
        "Devuelve el numero de orden (codigo decimal) de un caracter [Unicode](https://en.wikipedia.org/wiki/Unicode)  "
      ]
    },
    {
      "cell_type": "code",
      "metadata": {
        "colab": {
          "base_uri": "https://localhost:8080/"
        },
        "id": "HkDQDB0p_TOh",
        "outputId": "158d1a96-6432-46b5-83de-60d5a759ed86"
      },
      "source": [
        "orden = ord('A')\n",
        "print(orden)\n",
        "\n",
        "orden = ord('B')\n",
        "print(orden)\n",
        "\n",
        "orden = ord('🙂')      # los emojis son unicode y Python los soporta\n",
        "print(orden)"
      ],
      "execution_count": null,
      "outputs": [
        {
          "output_type": "stream",
          "name": "stdout",
          "text": [
            "65\n",
            "66\n",
            "128578\n"
          ]
        }
      ]
    },
    {
      "cell_type": "markdown",
      "metadata": {
        "id": "1yoj_KJJlnMG"
      },
      "source": [
        "## Funciones para castear (transformar) a los distintos tipos de datos  \n",
        "#### Tambien son funciones de primer nivel    \n",
        "`int()`  \n",
        "`float()`  \n",
        "`str()`  \n",
        "`bool()`  \n",
        "`list()`  --> le tengo que pasar un contenedor (iterable) y lo convierte en lista  \n",
        "`tuple()`  \n",
        "`set()` --> castea un iterable a conjunto (si hay repetidos los elimina)  \n",
        "`dict()` --> si la usamos sin pasarle nada, devuelve un diccionario vacio  \n",
        "  \n",
        "No todos los tipos de datos se pueden castear en cualquier otro tipo de dato.  \n",
        "Y algunos que si se puede, no sirven en todos los casos.  \n",
        "Por ejemplo: `int('7')` funciona (seria de `str -> int`)  \n",
        "Pero, `int('q')` (que tambien es de `str -> int`) no funciona"
      ]
    },
    {
      "cell_type": "markdown",
      "metadata": {
        "id": "66Ivf6e0pZHE"
      },
      "source": [
        "# Formateo de cadenas  \n",
        "Si queremos mostrar datos de una forma mas prolija podemos usar f-strings (cadenas con formato).  \n",
        "  \n",
        "Normalmente podemos usar `print()` pasando todos los valores que queremos mostrar, pero solo se muestra un valor al lado del otro (separado por un espacio en blanco).  \n",
        "Con f-strings podemos dar un mejor formato. Por ejemplo:  \n",
        "> Notese la letra `f` en azul antes de las primeras comillas, en el `print`."
      ]
    },
    {
      "cell_type": "code",
      "metadata": {
        "colab": {
          "base_uri": "https://localhost:8080/"
        },
        "id": "EG5IuYt3p59i",
        "outputId": "20ccee85-6c8a-4356-a5ca-65c5e1dbea52"
      },
      "source": [
        "nombre = \"Juan\"\n",
        "edad = 20\n",
        "lugar = \"Salta\"\n",
        "print(f\"Hola, mi nombre es {nombre}, tengo {edad} años y vivo en {lugar}.\")\n",
        "\n",
        "cadena_con_formato = \"Hola, mi nombre es {}, tengo {} años y vivo en {}.\"\n",
        "print(cadena_con_formato.format(nombre, edad, lugar))"
      ],
      "execution_count": null,
      "outputs": [
        {
          "output_type": "stream",
          "name": "stdout",
          "text": [
            "Hola, mi nombre es Juan, tengo 20 años y vivo en Salta.\n",
            "Hola, mi nombre es Juan, tengo 20 años y vivo en Salta.\n"
          ]
        }
      ]
    },
    {
      "cell_type": "markdown",
      "metadata": {
        "id": "B4LKYS5ryN2k"
      },
      "source": [
        "# Ciclos  \n",
        "  \n",
        "## **`for`** `nombre` **`in`** `iterable` **:**\n",
        "## &nbsp;&nbsp;&nbsp;&nbsp;&nbsp;&nbsp;&nbsp;&nbsp;&nbsp; `<bloque de codigo>`  \n",
        "\n",
        "`nombre` es una variable (puedo llamarla como yo quiera) que va tomando todos los valores de `iterable`, uno por uno, en cada iteracion (repeticion).\n",
        "  \n",
        "O sea que podemos correr ciclos `for` sobre listas, tuplas, cadenas, ranges, (diccionarios, y conjuntos tambien, pero ojo con esos 2).  "
      ]
    },
    {
      "cell_type": "code",
      "metadata": {
        "colab": {
          "base_uri": "https://localhost:8080/"
        },
        "id": "UybrGpU1z38j",
        "outputId": "5618277c-5f09-4406-c692-62aba5cb7182"
      },
      "source": [
        "# un ejemplo con una lista\n",
        "lista = [10, 20, 30, 40, 50]\n",
        "for elem in lista:\n",
        "    print(elem**2)   # muestra cada uno de los valores que va tomando elem"
      ],
      "execution_count": null,
      "outputs": [
        {
          "output_type": "stream",
          "name": "stdout",
          "text": [
            "100\n",
            "400\n",
            "900\n",
            "1600\n",
            "2500\n"
          ]
        }
      ]
    },
    {
      "cell_type": "code",
      "metadata": {
        "colab": {
          "base_uri": "https://localhost:8080/"
        },
        "id": "qailnYq10apx",
        "outputId": "334ec956-3266-4902-96aa-20243e81c898"
      },
      "source": [
        "# un ejemplo con una tupla\n",
        "tupla = ('a', 'b', 'c', 'd', 'e')\n",
        "for elem in tupla:\n",
        "    print(elem)"
      ],
      "execution_count": null,
      "outputs": [
        {
          "output_type": "stream",
          "name": "stdout",
          "text": [
            "a\n",
            "b\n",
            "c\n",
            "d\n",
            "e\n"
          ]
        }
      ]
    },
    {
      "cell_type": "code",
      "metadata": {
        "colab": {
          "base_uri": "https://localhost:8080/"
        },
        "id": "YO06iwxP05AK",
        "outputId": "c1db3e06-23cb-4380-b5bf-cbc5dd4e87d6"
      },
      "source": [
        "# un ejemplo con una cadena\n",
        "cadena = \"hola\"\n",
        "vocales = ('a', 'e', 'i', 'o', 'u')\n",
        "contador = 0\n",
        "for letra in cadena:\n",
        "    if letra in vocales:\n",
        "        contador = contador + 1\n",
        "        print(\"encontré una vocal:\", letra)\n",
        "\n",
        "print(f\"encontré {contador} vocales\")"
      ],
      "execution_count": null,
      "outputs": [
        {
          "output_type": "stream",
          "name": "stdout",
          "text": [
            "encontré una vocal: o\n",
            "encontré una vocal: a\n",
            "encontré 2 vocales\n"
          ]
        }
      ]
    },
    {
      "cell_type": "markdown",
      "metadata": {
        "id": "XleJswAd1JBM"
      },
      "source": [
        "## Sobre `range()`  \n",
        "  \n",
        "La funcion `range()` devuelve una secuencia (o sea, un iterable) de numeros sobre la que podemos usar un ciclo `for`.\n",
        "\n",
        "Si le pasamos un numero, va a crear una secuencia desde 0, hasta ese numero menos uno (o sea, es no inclusivo por derecha).  \n",
        "  \n",
        "    range(5) -> secuencia del 0 al 4\n",
        "  \n",
        "\n",
        "Si le pasamos 2 numeros, va a crear una secuencia desde el primer numero hasta el segundo menos uno.  \n",
        "  \n",
        "    range(5, 10) -> secuencia del 5 al 9  \n",
        "  \n",
        "Si le pasamos un tercer parametro, va a indicar el *paso* (si no lo incluimos siempre es 1).  \n",
        "  \n",
        "    range(0, 10, 2) -> secuencia del 0 al 9, de 2 en 2 (0, 2, 4 ,6 ,8)"
      ]
    },
    {
      "cell_type": "code",
      "metadata": {
        "colab": {
          "base_uri": "https://localhost:8080/"
        },
        "id": "K44LYKEn1wMZ",
        "outputId": "9507a8eb-84aa-4990-e777-a25e00e589b0"
      },
      "source": [
        "for i in range(5):     # secuencia desde el 0 al 4\n",
        "    print(\"Hola\")"
      ],
      "execution_count": null,
      "outputs": [
        {
          "output_type": "stream",
          "name": "stdout",
          "text": [
            "Hola\n",
            "Hola\n",
            "Hola\n",
            "Hola\n",
            "Hola\n"
          ]
        }
      ]
    },
    {
      "cell_type": "code",
      "metadata": {
        "colab": {
          "base_uri": "https://localhost:8080/"
        },
        "id": "9wQAYoZx2rFI",
        "outputId": "23d70bb1-a721-49c0-c833-c1fab666403b"
      },
      "source": [
        "for i in range(5, 10):     # secuencia del 5 al 9 \n",
        "    print(i)"
      ],
      "execution_count": null,
      "outputs": [
        {
          "output_type": "stream",
          "name": "stdout",
          "text": [
            "5\n",
            "6\n",
            "7\n",
            "8\n",
            "9\n"
          ]
        }
      ]
    },
    {
      "cell_type": "code",
      "metadata": {
        "colab": {
          "base_uri": "https://localhost:8080/"
        },
        "id": "0DysbBCW20VX",
        "outputId": "05641b08-8771-4e2b-f9cd-5c03c55f61d2"
      },
      "source": [
        "for i in range(0, 10, 2):    # secuencia del 0 al 9, de 2 en 2\n",
        "    print(i)"
      ],
      "execution_count": null,
      "outputs": [
        {
          "output_type": "stream",
          "name": "stdout",
          "text": [
            "0\n",
            "2\n",
            "4\n",
            "6\n",
            "8\n"
          ]
        }
      ]
    },
    {
      "cell_type": "code",
      "metadata": {
        "colab": {
          "base_uri": "https://localhost:8080/"
        },
        "id": "FqzIheE02Xm0",
        "outputId": "2c1cb941-ffbb-42f8-b0ac-f0442099e656"
      },
      "source": [
        "for i in range(5, 0, -1):\n",
        "    print(i)"
      ],
      "execution_count": null,
      "outputs": [
        {
          "output_type": "stream",
          "name": "stdout",
          "text": [
            "5\n",
            "4\n",
            "3\n",
            "2\n",
            "1\n"
          ]
        }
      ]
    },
    {
      "cell_type": "markdown",
      "metadata": {
        "id": "wgsnxW9q3jCv"
      },
      "source": [
        "## **`while`** `condicion_logica` **`:`**  \n",
        "## &nbsp;&nbsp;&nbsp;&nbsp;&nbsp;&nbsp;&nbsp;&nbsp;&nbsp; `<bloque de codigo>`\n",
        "  \n",
        "Es igual al que vimos en pseudocódigo. El bloque de codigo (instrucciones) se va a repetir mientras la condicion logica se cumpla.  \n",
        "  \n",
        "\n"
      ]
    },
    {
      "cell_type": "code",
      "metadata": {
        "colab": {
          "base_uri": "https://localhost:8080/"
        },
        "id": "hN9ukwot9A41",
        "outputId": "fad0d894-ba9c-45dd-802b-1d814ed4285a"
      },
      "source": [
        "# un ejemplo simple con un contador\n",
        "contador = 1\n",
        "while contador < 5:\n",
        "    print(\"contador vale:\", contador)\n",
        "    contador = contador + 1\n",
        "print(\"salió del while. contador vale:\", contador)"
      ],
      "execution_count": null,
      "outputs": [
        {
          "output_type": "stream",
          "name": "stdout",
          "text": [
            "contador vale: 1\n",
            "contador vale: 2\n",
            "contador vale: 3\n",
            "contador vale: 4\n",
            "salió del while. contador vale: 5\n"
          ]
        }
      ]
    },
    {
      "cell_type": "markdown",
      "metadata": {
        "id": "7GpbST8N9Dg1"
      },
      "source": [
        "Un ejemplo usando una lista y la función de listas: [`pop() -ver en la documentacion- `](https://docs.python.org/es/3/tutorial/datastructures.html) que quite el ultimo elemento de la lista cada vez que se lo llama."
      ]
    },
    {
      "cell_type": "code",
      "metadata": {
        "colab": {
          "base_uri": "https://localhost:8080/"
        },
        "id": "FwZ9V2gd5Ab_",
        "outputId": "ca08b639-a091-43db-c701-fe4112bee130"
      },
      "source": [
        "lista = [1,2,3,4]\n",
        "while lista != []:      # mientras que la lista no este vacia\n",
        "    print(lista.pop())  # quito el ultimo elemento de la lista (con pop) y lo muestro, en algun momento se va a vaciar\n",
        "print(\"terminó. lista =\", lista)\n",
        "\n"
      ],
      "execution_count": null,
      "outputs": [
        {
          "output_type": "stream",
          "name": "stdout",
          "text": [
            "4\n",
            "3\n",
            "2\n",
            "1\n",
            "terminó. lista = []\n"
          ]
        }
      ]
    }
  ]
}