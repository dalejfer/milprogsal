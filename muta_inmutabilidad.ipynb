{
 "metadata": {
  "language_info": {
   "codemirror_mode": {
    "name": "ipython",
    "version": 3
   },
   "file_extension": ".py",
   "mimetype": "text/x-python",
   "name": "python",
   "nbconvert_exporter": "python",
   "pygments_lexer": "ipython3",
   "version": "3.9.1-final"
  },
  "orig_nbformat": 2,
  "kernelspec": {
   "name": "python3",
   "display_name": "Python 3.9.1 64-bit",
   "metadata": {
    "interpreter": {
     "hash": "c9a4856befc00e5e3f3788f6aec3cfc7e6f4cdeb2495fec7fa8c3e3cc9625926"
    }
   }
  }
 },
 "nbformat": 4,
 "nbformat_minor": 2,
 "cells": [
  {
   "source": [
    "# Mutabilidad e Inmutabilidad  \n",
    "  \n",
    "En python, los objetos (numeros, cadenas, listas, tuplas, etc) pueden ser mutables o inmutables.  \n",
    "  \n",
    "**Mutable**: cuando puedo modificar su valor o contenido. Por ejemplo, las listas o los diccionarios son mutables.  \n",
    "  \n",
    "**Inmutable**: cuando **no** puedo modificar su valor o contenido. Por ejemplo, los enteros, tuplas, cadenas, etc.  \n",
    "  \n"
   ],
   "cell_type": "markdown",
   "metadata": {}
  },
  {
   "source": [
    "## Mutables  \n",
    "  \n",
    "Listas - *list*  \n",
    "Diccionarios - *dict*  \n",
    "Conjuntos - *set*  \n",
    "  \n",
    "Los objetos mutables generalmente tienen metodos propios o sintaxis por los cuales se puede modificar su valor o contenido. Por ejemplo, estos metodos de listas o diccionarios:"
   ],
   "cell_type": "markdown",
   "metadata": {}
  },
  {
   "cell_type": "code",
   "execution_count": 2,
   "metadata": {},
   "outputs": [
    {
     "output_type": "stream",
     "name": "stdout",
     "text": [
      "lista: []\nlista: ['elemento']\ndic: {}\ndic: {'a': 15}\n"
     ]
    }
   ],
   "source": [
    "lista = []  # original mente tengo una lista vacia\n",
    "print(\"lista:\", lista)\n",
    "\n",
    "lista.append(\"elemento\")    # con el metodo append agrego un elemento, por lo tanto modifico la lista\n",
    "print(\"lista:\", lista)\n",
    "\n",
    "#--------------------------------------------\n",
    "\n",
    "dic = {}    # un diccionario vacio\n",
    "print(\"dic:\", dic)\n",
    "\n",
    "dic['a'] = 15   # agrego un elemento con sintaxis propia de diccionarios\n",
    "print(\"dic:\", dic)"
   ]
  },
  {
   "source": [
    "## Inmutables  \n",
    "  \n",
    "Enteros - *int*  \n",
    "Reales - *float*  \n",
    "Booleanos - *bool*  \n",
    "Cadenas - *str*  \n",
    "Tuplas - *tuple*  \n",
    "  \n",
    "Los objetos inmutables no se pueden modificar y aunque algunos tengan metodos que aparentan modificarlo (por ej: str.upper() estos en realidad devuelven un nuevo objeto).  \n",
    "La sintaxis que funciona con objetos mutables provoca un error cuando se la usa con objetos inmutables."
   ],
   "cell_type": "markdown",
   "metadata": {}
  },
  {
   "cell_type": "code",
   "execution_count": 3,
   "metadata": {},
   "outputs": [
    {
     "output_type": "stream",
     "name": "stdout",
     "text": [
      "hello world\nHELLO WORLD\n"
     ]
    }
   ],
   "source": [
    "cad = \"hello world\"\n",
    "print(cad)\n",
    "\n",
    "cad = cad.upper()   # simplemente se asigna un nuevo valor a cad\n",
    "print(cad)\n",
    "\n",
    "# en este ejemplo la cadena original no cambia, solo deja de ser referenciada\n",
    "# el nombre cad ahora hace referencia a la cadena \"HELLO WORLD\""
   ]
  },
  {
   "source": [
    "Intentar usar sintaxis para modificar un objeto inmutable provoca un error."
   ],
   "cell_type": "markdown",
   "metadata": {}
  },
  {
   "cell_type": "code",
   "execution_count": 4,
   "metadata": {},
   "outputs": [
    {
     "output_type": "error",
     "ename": "TypeError",
     "evalue": "'tuple' object does not support item assignment",
     "traceback": [
      "\u001b[1;31m---------------------------------------------------------------------------\u001b[0m",
      "\u001b[1;31mTypeError\u001b[0m                                 Traceback (most recent call last)",
      "\u001b[1;32m<ipython-input-4-e5889da4e999>\u001b[0m in \u001b[0;36m<module>\u001b[1;34m\u001b[0m\n\u001b[0;32m      1\u001b[0m \u001b[0mtupla\u001b[0m \u001b[1;33m=\u001b[0m \u001b[1;33m(\u001b[0m\u001b[1;36m76\u001b[0m\u001b[1;33m,\u001b[0m \u001b[1;36m87\u001b[0m\u001b[1;33m,\u001b[0m \u001b[1;36m43\u001b[0m\u001b[1;33m,\u001b[0m \u001b[1;36m54\u001b[0m\u001b[1;33m,\u001b[0m \u001b[1;36m21\u001b[0m\u001b[1;33m,\u001b[0m \u001b[1;36m43\u001b[0m\u001b[1;33m)\u001b[0m\u001b[1;33m\u001b[0m\u001b[1;33m\u001b[0m\u001b[0m\n\u001b[1;32m----> 2\u001b[1;33m \u001b[0mtupla\u001b[0m\u001b[1;33m[\u001b[0m\u001b[1;36m3\u001b[0m\u001b[1;33m]\u001b[0m \u001b[1;33m=\u001b[0m \u001b[1;36m66\u001b[0m\u001b[1;33m\u001b[0m\u001b[1;33m\u001b[0m\u001b[0m\n\u001b[0m",
      "\u001b[1;31mTypeError\u001b[0m: 'tuple' object does not support item assignment"
     ]
    }
   ],
   "source": [
    "tupla = (76, 87, 43, 54, 21, 43)\n",
    "tupla[3] = 66"
   ]
  },
  {
   "cell_type": "code",
   "execution_count": null,
   "metadata": {},
   "outputs": [],
   "source": []
  }
 ]
}